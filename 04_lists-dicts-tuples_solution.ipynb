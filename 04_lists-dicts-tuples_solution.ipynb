{
 "cells": [
  {
   "cell_type": "markdown",
   "id": "dfb8dd3f-03ef-46f3-83be-092f51aafc87",
   "metadata": {
    "pycharm": {
     "name": "#%% md\n"
    }
   },
   "source": [
    "# Exercises for Introduction to Python for Data Science\n",
    "\n",
    "Week 04 - Lists, Dictionaries and Tuples\n",
    "\n",
    "Matthias Feurer and Andreas Bender  \n",
    "2026-08-05"
   ]
  },
  {
   "cell_type": "markdown",
   "id": "70f4f1bb-d89c-435f-97aa-9f37fdb06158",
   "metadata": {
    "pycharm": {
     "name": "#%% md\n"
    }
   },
   "source": [
    "# Exercise 1\n",
    "\n",
    "Write a function called `is_nested` that takes a list as input and\n",
    "returns `True` if the list contains another list as one of its elements,\n",
    "and `False` otherwise.\n",
    "\n",
    "The function should:\n",
    "\n",
    "-   Take a list as input\n",
    "-   Return a boolean value\n",
    "-   Handle empty lists (return `False`)\n",
    "-   Handle lists with any type of elements\n",
    "\n",
    "For example:\n",
    "\n",
    "-   is_nested(\\[1, 2, 3\\]) → False\n",
    "-   is_nested(\\[1, \\[2, 3\\], 4\\]) → True\n",
    "-   is_nested(\\[\\]) → False\n",
    "-   is_nested(\\[1, “hello”, \\[1, 2\\], 3.14\\]) → True"
   ]
  },
  {
   "cell_type": "markdown",
   "id": "8368aaec-2f92-490e-bb31-f360df95ec70",
   "metadata": {
    "pycharm": {
     "name": "#%% md\n"
    }
   },
   "source": [
    "## Solution Exercise 1"
   ]
  },
  {
   "cell_type": "code",
   "execution_count": 1,
   "id": "d8ec7599",
   "metadata": {
    "pycharm": {
     "name": "#%%\n"
    }
   },
   "outputs": [
    {
     "name": "stdout",
     "output_type": "stream",
     "text": [
      "Exercise 1 Examples:\n",
      "is_nested([1, 2, 3]) → False\n",
      "is_nested([1, [2, 3], 4]) → True\n",
      "is_nested([]) → False\n",
      "is_nested([1, \"hello\", [1, 2], 3.14]) → True\n"
     ]
    }
   ],
   "source": [
    "def is_nested(lst):\n",
    "    \"\"\"\n",
    "    Check if a list contains another list as one of its elements.\n",
    "    \n",
    "    Args:\n",
    "        lst (list): The list to check for nested lists\n",
    "        \n",
    "    Returns:\n",
    "        bool: True if the list contains another list, False otherwise\n",
    "    \"\"\"\n",
    "    for item in lst:\n",
    "        if isinstance(item, list):\n",
    "            return True\n",
    "    return False\n",
    "\n",
    "# Run examples\n",
    "print(\"Exercise 1 Examples:\")\n",
    "print(\"is_nested([1, 2, 3]) →\", is_nested([1, 2, 3]))\n",
    "print(\"is_nested([1, [2, 3], 4]) →\", is_nested([1, [2, 3], 4]))\n",
    "print(\"is_nested([]) →\", is_nested([]))\n",
    "print(\"is_nested([1, \\\"hello\\\", [1, 2], 3.14]) →\", is_nested([1, \"hello\", [1, 2], 3.14]))\n",
    "print()"
   ]
  },
  {
   "cell_type": "markdown",
   "id": "806c3d22-5256-4de0-acb4-8607689c1d85",
   "metadata": {
    "pycharm": {
     "name": "#%% md\n"
    }
   },
   "source": [
    "# Exercise 2\n",
    "\n",
    "Write a function called `contains_deep` that takes a list and a value as\n",
    "input and returns `True` if the value is found anywhere in the list,\n",
    "including inside any nested lists, and `False` otherwise.\n",
    "\n",
    "The function should:\n",
    "\n",
    "-   Take a list and a value as input\n",
    "-   Return a boolean value\n",
    "-   Check all levels of nesting\n",
    "-   Handle empty lists (return `False`)\n",
    "-   Handle lists with any type of elements\n",
    "\n",
    "For example:\n",
    "\n",
    "-   contains_deep(\\[1, 2, 3\\], 2) → True\n",
    "-   contains_deep(\\[1, \\[2, 3\\], 4\\], 3) → True\n",
    "-   contains_deep(\\[\\], 5) → False\n",
    "-   contains_deep(\\[1, “hello”, \\[1, \\[2, 10\\]\\], 3.14\\], 10) → True\n",
    "-   contains_deep(\\[1, \\[2, 3\\], 4\\], 5) → False"
   ]
  },
  {
   "cell_type": "markdown",
   "id": "68af4e47-ac20-42ed-b0e0-03556350a55c",
   "metadata": {
    "pycharm": {
     "name": "#%% md\n"
    }
   },
   "source": [
    "## Solution Exercise 2"
   ]
  },
  {
   "cell_type": "code",
   "execution_count": 3,
   "id": "ac38320e",
   "metadata": {
    "pycharm": {
     "name": "#%%\n"
    }
   },
   "outputs": [
    {
     "name": "stdout",
     "output_type": "stream",
     "text": [
      "Exercise 2 Examples:\n",
      "Checking list [1, 2, 3] for 2\n",
      "Checking item 1\n",
      "Checking item 2\n",
      "Item found\n",
      "contains_deep([1, 2, 3], 2) → True\n",
      "Checking list [1, [2, 3], 4] for 3\n",
      "Checking item 1\n",
      "Checking item [2, 3]\n",
      "Checking list [2, 3] for 3\n",
      "Checking item 2\n",
      "Checking item 3\n",
      "Item found\n",
      "Item found in sub-list\n",
      "contains_deep([1, [2, 3], 4], 3) → True\n",
      "Checking list [] for 5\n",
      "contains_deep([], 5) → False\n",
      "Checking list [1, 'hello', [1, [2, 10]], 3.14] for 10\n",
      "Checking item 1\n",
      "Checking item hello\n",
      "Checking item [1, [2, 10]]\n",
      "Checking list [1, [2, 10]] for 10\n",
      "Checking item 1\n",
      "Checking item [2, 10]\n",
      "Checking list [2, 10] for 10\n",
      "Checking item 2\n",
      "Checking item 10\n",
      "Item found\n",
      "Item found in sub-list\n",
      "Item found in sub-list\n",
      "contains_deep([1, \"hello\", [1, [2, 10]], 3.14], 10) → True\n",
      "Checking list [1, [2, 3], 4] for 5\n",
      "Checking item 1\n",
      "Checking item [2, 3]\n",
      "Checking list [2, 3] for 5\n",
      "Checking item 2\n",
      "Checking item 3\n",
      "Checking item 4\n",
      "contains_deep([1, [2, 3], 4], 5) → False\n",
      "\n"
     ]
    }
   ],
   "source": [
    "def contains_deep(lst, value):\n",
    "    \"\"\"\n",
    "    Check if a value exists anywhere in a list, including inside nested lists.\n",
    "    \n",
    "    Args:\n",
    "        lst (list): The list to search in\n",
    "        value: The value to search for\n",
    "        \n",
    "    Returns:\n",
    "        bool: True if the value is found anywhere in the list or its nested lists,\n",
    "             False otherwise\n",
    "    \"\"\"\n",
    "    print(\"Checking list\", lst, \"for\", value)\n",
    "    for item in lst:\n",
    "        print(\"Checking item\", item)\n",
    "        if isinstance(item, list):\n",
    "            if contains_deep(item, value):  # Recursively check nested lists\n",
    "                print(\"Item found in sub-list\")\n",
    "                return True\n",
    "        elif item == value:\n",
    "            print(\"Item found\")\n",
    "            return True\n",
    "    return False\n",
    "\n",
    "# Run examples\n",
    "print(\"Exercise 2 Examples:\")\n",
    "print(\"contains_deep([1, 2, 3], 2) →\", contains_deep([1, 2, 3], 2))\n",
    "print(\"contains_deep([1, [2, 3], 4], 3) →\", contains_deep([1, [2, 3], 4], 3))\n",
    "print(\"contains_deep([], 5) →\", contains_deep([], 5))\n",
    "print(\"contains_deep([1, \\\"hello\\\", [1, [2, 10]], 3.14], 10) →\", contains_deep([1, \"hello\", [1, [2, 10]], 3.14], 10))\n",
    "print(\"contains_deep([1, [2, 3], 4], 5) →\", contains_deep([1, [2, 3], 4], 5))\n",
    "print()"
   ]
  },
  {
   "cell_type": "markdown",
   "id": "099d0648-0aa1-405d-90f4-055e76ff2d26",
   "metadata": {
    "pycharm": {
     "name": "#%% md\n"
    }
   },
   "source": [
    "# Exercise 3\n",
    "\n",
    "Write a function called `sort_nested` that takes a list as input and\n",
    "returns a new sorted list. The input list will have a maximum nesting\n",
    "depth of 1 (i.e., it may contain lists but not lists of lists).\n",
    "\n",
    "The function should sort the list where:\n",
    "\n",
    "1.  Each nested list is sorted internally first\n",
    "2.  Lists are compared element by element:\n",
    "    -   First compare the first elements\n",
    "    -   If first elements are equal, compare the second elements\n",
    "    -   If second elements are equal, compare the third elements, and so\n",
    "        on\n",
    "3.  Single numbers are treated as single-element lists for comparison\n",
    "\n",
    "The sorting should:\n",
    "\n",
    "-   Sort each nested list in ascending order first\n",
    "-   Compare elements position by position\n",
    "-   If all elements up to the shorter length are equal, the shorter list\n",
    "    comes first\n",
    "-   Single numbers are compared directly with the first element of lists\n",
    "\n",
    "For example:\n",
    "\n",
    "-   sort_nested(\\[\\[3,1\\], \\[2,5\\], \\[1,4\\]\\]) → \\[\\[1,3\\], \\[1,4\\],\n",
    "    \\[2,5\\]\\]\n",
    "\n",
    "The function should:\n",
    "\n",
    "-   Take a list as input (with max nesting depth of 1)\n",
    "-   Return a new sorted list (don’t modify original)\n",
    "-   Handle empty lists\n",
    "-   Handle lists with mixed types (numbers and nested lists)\n",
    "-   Sort all nested lists in ascending order"
   ]
  },
  {
   "cell_type": "markdown",
   "id": "f4239d7f-b3a4-4f32-97cd-3bab0b371b99",
   "metadata": {
    "pycharm": {
     "name": "#%% md\n"
    }
   },
   "source": [
    "## Solution Exercise 3"
   ]
  },
  {
   "cell_type": "code",
   "execution_count": 3,
   "id": "32aa604d",
   "metadata": {
    "pycharm": {
     "name": "#%%\n"
    }
   },
   "outputs": [
    {
     "name": "stdout",
     "output_type": "stream",
     "text": [
      "Exercise 3 Examples:\n",
      "sort_nested([[3, 1], [2, 5], [1, 4]]) → [[1, 3], [1, 4], [2, 5]]\n",
      "sort_nested([3, [5, 1], 2]) → [[1, 5], 2, 3]\n",
      "sort_nested([[4, 1, 2], [3], [2, 5, 1]]) → [[1, 2, 4], [1, 2, 5], [3]]\n",
      "sort_nested([]) → []\n",
      "sort_nested([[2, 1], 3, [1, 4], 2]) → [[1, 2], [1, 4], 2, 3]\n"
     ]
    }
   ],
   "source": [
    "def sort_nested(lst):\n",
    "    \"\"\"\n",
    "    Sort a list with nested lists where:\n",
    "    1. Each nested list is sorted internally first\n",
    "    2. Lists are compared element by element\n",
    "    3. Single numbers are treated as single-element lists\n",
    "\n",
    "    Note: This function only works for lists with a maximum nesting depth of 1\n",
    "    (i.e., lists containing lists but not lists containing lists containing lists).\n",
    "    \n",
    "    Args:\n",
    "        lst (list): The list to sort, may contain nested lists with max depth 1\n",
    "        \n",
    "    Returns:\n",
    "        list: A new sorted list where nested lists are sorted based on element-wise comparison\n",
    "    \"\"\"\n",
    "    def get_compare_key(item):\n",
    "        \"\"\"Helper function to get the comparison key for an item\"\"\"\n",
    "        if not isinstance(item, list):\n",
    "            return [item]  # Convert single number to single-element list\n",
    "        return sorted(item)  # Sort the list internally\n",
    "    \n",
    "    # Create a new list with sorted nested lists using list comprehension\n",
    "    result = [sorted(item) if isinstance(item, list) else item for item in lst]\n",
    "    \n",
    "    # Sort using element-wise comparison\n",
    "    return sorted(result, key=get_compare_key)\n",
    "\n",
    "# Run examples\n",
    "print(\"Exercise 3 Examples:\")\n",
    "test1 = [[3, 1], [2, 5], [1, 4]]\n",
    "print(\"sort_nested([[3, 1], [2, 5], [1, 4]]) →\", sort_nested(test1))\n",
    "\n",
    "test2 = [3, [5, 1], 2]\n",
    "print(\"sort_nested([3, [5, 1], 2]) →\", sort_nested(test2))\n",
    "\n",
    "test3 = [[4, 1, 2], [3], [2, 5, 1]]\n",
    "print(\"sort_nested([[4, 1, 2], [3], [2, 5, 1]]) →\", sort_nested(test3))\n",
    "\n",
    "test4 = []\n",
    "print(\"sort_nested([]) →\", sort_nested(test4))\n",
    "\n",
    "test5 = [[2, 1], 3, [1, 4], 2]\n",
    "print(\"sort_nested([[2, 1], 3, [1, 4], 2]) →\", sort_nested(test5))\n",
    "print()"
   ]
  },
  {
   "cell_type": "markdown",
   "id": "596cf96e-10d1-40ed-b224-dcbdb403b36a",
   "metadata": {
    "pycharm": {
     "name": "#%% md\n"
    }
   },
   "source": [
    "# Exercise 4\n",
    "\n",
    "Write a function called `analyze_grades` that takes a list of student\n",
    "records and returns a dictionary with various statistics about the\n",
    "grades.\n",
    "\n",
    "Each student record is a dictionary with the following structure:\n",
    "\n",
    "``` python\n",
    "{\n",
    "    'name': 'Student Name',\n",
    "    'grades': {\n",
    "        'math': 85,\n",
    "        'science': 90,\n",
    "        'history': 78\n",
    "    }\n",
    "}\n",
    "```\n",
    "\n",
    "The function should return a dictionary with the following statistics:\n",
    "\n",
    "-   Average grade for each subject\n",
    "-   Highest grade in each subject (with student name)\n",
    "-   Lowest grade in each subject (with student name)\n",
    "-   Overall average grade for each student\n",
    "-   List of students who scored above average in at least two subjects\n",
    "\n",
    "For example:\n",
    "\n",
    "``` python\n",
    "students = [\n",
    "    {\n",
    "        'name': 'Alice',\n",
    "        'grades': {'math': 85, 'science': 90, 'history': 78}\n",
    "    },\n",
    "    {\n",
    "        'name': 'Bob',\n",
    "        'grades': {'math': 92, 'science': 88, 'history': 85}\n",
    "    },\n",
    "    {\n",
    "        'name': 'Charlie',\n",
    "        'grades': {'math': 78, 'science': 95, 'history': 82}\n",
    "    }\n",
    "]\n",
    "\n",
    "result = analyze_grades(students)\n",
    "Should return something like:\n",
    "{\n",
    "    'subject_averages': {'math': 85.0, 'science': 91.0, 'history': 81.7},\n",
    "    'highest_grades': {\n",
    "        'math': {'name': 'Bob', 'grade': 92},\n",
    "        'science': {'name': 'Charlie', 'grade': 95},\n",
    "        'history': {'name': 'Bob', 'grade': 85}\n",
    "    },\n",
    "    'lowest_grades': {\n",
    "        'math': {'name': 'Charlie', 'grade': 78},\n",
    "        'science': {'name': 'Bob', 'grade': 88},\n",
    "        'history': {'name': 'Alice', 'grade': 78}\n",
    "    },\n",
    "    'student_averages': {\n",
    "        'Alice': 84.3,\n",
    "        'Bob': 88.3,\n",
    "        'Charlie': 85.0\n",
    "    },\n",
    "    'above_average_students': ['Bob', 'Charlie']\n",
    "}\n",
    "```\n",
    "\n",
    "The function should:\n",
    "\n",
    "-   Handle empty input lists\n",
    "-   Handle missing grades (treat as 0)\n",
    "-   Round averages to 1 decimal place\n",
    "-   Handle any number of subjects\n",
    "-   Handle any number of students"
   ]
  },
  {
   "cell_type": "markdown",
   "id": "7214be34-8572-46f9-a4f6-567f651680a3",
   "metadata": {
    "pycharm": {
     "name": "#%% md\n"
    }
   },
   "source": [
    "## Solution Exercise 4"
   ]
  },
  {
   "cell_type": "code",
   "execution_count": 4,
   "id": "8d17dfc5",
   "metadata": {
    "pycharm": {
     "name": "#%%\n"
    }
   },
   "outputs": [
    {
     "name": "stdout",
     "output_type": "stream",
     "text": [
      "Exercise 4 Examples:\n",
      "Subject averages: {'math': 85.0, 'science': 91.0, 'history': 81.7}\n",
      "Highest grades: {'math': {'name': 'Bob', 'grade': 92}, 'science': {'name': 'Charlie', 'grade': 95}, 'history': {'name': 'Bob', 'grade': 85}}\n",
      "Lowest grades: {'math': {'name': 'Charlie', 'grade': 78}, 'science': {'name': 'Bob', 'grade': 88}, 'history': {'name': 'Alice', 'grade': 78}}\n",
      "Student averages: {'Alice': 84.3, 'Bob': 88.3, 'Charlie': 85.0}\n",
      "Above average students: ['Bob', 'Charlie']"
     ]
    }
   ],
   "source": [
    "def analyze_grades(students):\n",
    "    \"\"\"\n",
    "    Analyze student grades and return various statistics.\n",
    "    \n",
    "    Args:\n",
    "        students (list): List of student records, each containing name and grades\n",
    "        \n",
    "    Returns:\n",
    "        dict: Dictionary containing various grade statistics\n",
    "    \"\"\"\n",
    "    \n",
    "    # Initialize result structure\n",
    "    result = {\n",
    "        'subject_averages': {},\n",
    "        'highest_grades': {},\n",
    "        'lowest_grades': {},\n",
    "        'student_averages': {},\n",
    "        'above_average_students': []\n",
    "    }\n",
    "    \n",
    "    if not students:\n",
    "        return result\n",
    "    \n",
    "    # Get all subjects\n",
    "    subjects = set()\n",
    "    for student in students:\n",
    "        subjects.update(student['grades'].keys())\n",
    "    \n",
    "    # Calculate subject averages and find highest/lowest grades\n",
    "    for subject in subjects:\n",
    "        grades = []\n",
    "        for student in students:\n",
    "            grade = student['grades'].get(subject, 0)\n",
    "            grades.append((student['name'], grade))\n",
    "        \n",
    "        # Calculate average\n",
    "        avg = round(sum(g[1] for g in grades) / len(grades), 1)\n",
    "        result['subject_averages'][subject] = avg\n",
    "        \n",
    "        # Find highest and lowest\n",
    "        highest = max(grades, key=lambda x: x[1])\n",
    "        lowest = min(grades, key=lambda x: x[1])\n",
    "        \n",
    "        result['highest_grades'][subject] = {\n",
    "            'name': highest[0],\n",
    "            'grade': highest[1]\n",
    "        }\n",
    "        result['lowest_grades'][subject] = {\n",
    "            'name': lowest[0],\n",
    "            'grade': lowest[1]\n",
    "        }\n",
    "    \n",
    "    # Calculate student averages\n",
    "    for student in students:\n",
    "        grades = student['grades'].values()\n",
    "        avg = round(sum(grades) / len(grades), 1)\n",
    "        result['student_averages'][student['name']] = avg\n",
    "    \n",
    "    # Find students above average in at least two subjects\n",
    "    for student in students:\n",
    "        above_avg_count = 0\n",
    "        for subject, grade in student['grades'].items():\n",
    "            if grade > result['subject_averages'][subject]:\n",
    "                above_avg_count += 1\n",
    "        if above_avg_count >= 2:\n",
    "            result['above_average_students'].append(student['name'])\n",
    "    \n",
    "    return result\n",
    "\n",
    "# Run examples\n",
    "print(\"Exercise 4 Examples:\")\n",
    "students = [\n",
    "    {'name': 'Alice', 'grades': {'math': 85, 'science': 90, 'history': 78}},\n",
    "    {'name': 'Bob', 'grades': {'math': 92, 'science': 88, 'history': 85}},\n",
    "    {'name': 'Charlie', 'grades': {'math': 78, 'science': 95, 'history': 82}}\n",
    "]\n",
    "\n",
    "result = analyze_grades(students)\n",
    "print(\"Subject averages:\", result['subject_averages'])\n",
    "print(\"Highest grades:\", result['highest_grades'])\n",
    "print(\"Lowest grades:\", result['lowest_grades'])\n",
    "print(\"Student averages:\", result['student_averages'])\n",
    "print(\"Above average students:\", result['above_average_students'])"
   ]
  },
  {
   "cell_type": "markdown",
   "id": "58c1bc10-3799-4dcd-ac65-0c3d01875add",
   "metadata": {
    "pycharm": {
     "name": "#%% md\n"
    }
   },
   "source": [
    "# Exercise 5\n",
    "\n",
    "Write a function called `process_coordinates` that takes a list of\n",
    "coordinate pairs and performs various operations on them. Each\n",
    "coordinate pair is represented as a tuple of (x, y) coordinates.\n",
    "\n",
    "The function should:\n",
    "\n",
    "-   Calculate the distance between consecutive points\n",
    "-   Find the point closest to the origin (0,0)\n",
    "-   Calculate the total distance traveled (sum of distances between\n",
    "    consecutive points)\n",
    "-   Return a tuple containing:\n",
    "    1.  A list of distances between consecutive points\n",
    "    2.  The closest point to origin\n",
    "    3.  The total distance traveled\n",
    "    4.  A list of points sorted by their distance from origin\n",
    "\n",
    "For example:\n",
    "\n",
    "``` python\n",
    "points = [(1, 2), (3, 4), (0, 1), (5, 0)]\n",
    "result = process_coordinates(points)\n",
    "Should return something like:\n",
    "(\n",
    "  [2.83, 3.16, 5.10],  # distances between consecutive points\n",
    "  (0, 1),              # closest to origin\n",
    "  11.09,               # total distance\n",
    "  [(0, 1), (1, 2), (3, 4), (5, 0)]  # points sorted by distance from origin\n",
    ")\n",
    "```\n",
    "\n",
    "The function should:\n",
    "\n",
    "-   Handle empty input lists\n",
    "-   Handle lists with a single point\n",
    "-   Round all distances to 2 decimal places\n",
    "-   Use tuple unpacking where appropriate\n",
    "-   Not modify the input list"
   ]
  },
  {
   "cell_type": "markdown",
   "id": "39ee8cea-c247-4fc2-8c45-7c9cd61fbe5b",
   "metadata": {
    "pycharm": {
     "name": "#%% md\n"
    }
   },
   "source": [
    "## Solution Exercise 5"
   ]
  },
  {
   "cell_type": "code",
   "execution_count": 5,
   "id": "9be84793",
   "metadata": {
    "pycharm": {
     "name": "#%%\n"
    }
   },
   "outputs": [
    {
     "name": "stdout",
     "output_type": "stream",
     "text": [
      "Exercise 5 Examples:\n",
      "Input: [(1, 2), (3, 4), (0, 1), (5, 0)]\n",
      "Distances between points: [2.83, 4.24, 5.1]\n",
      "Closest to origin: (0, 1)\n",
      "Total distance: 12.17\n",
      "Points sorted by distance from origin: [(0, 1), (1, 2), (3, 4), (5, 0)]\n",
      "\n",
      "Input: [(0, 0), (1, 1)]\n",
      "Distances between points: [1.41]\n",
      "Closest to origin: (0, 0)\n",
      "Total distance: 1.41\n",
      "Points sorted by distance from origin: [(0, 0), (1, 1)]\n",
      "\n",
      "Input: []\n",
      "Distances between points: []\n",
      "Closest to origin: None\n",
      "Total distance: 0\n",
      "Points sorted by distance from origin: []"
     ]
    }
   ],
   "source": [
    "def process_coordinates(points):\n",
    "    \"\"\"\n",
    "    Process a list of coordinate pairs and return various calculations.\n",
    "    \n",
    "    Args:\n",
    "        points (list): List of (x,y) coordinate tuples\n",
    "        \n",
    "    Returns:\n",
    "        tuple: (distances, closest_point, total_distance, sorted_points)\n",
    "        \n",
    "    Examples:\n",
    "        >>> points = [(1, 2), (3, 4), (0, 1), (5, 0)]\n",
    "        >>> result = process_coordinates(points)\n",
    "        >>> result[0]  # distances between consecutive points\n",
    "        [2.83, 3.16, 5.10]\n",
    "        >>> result[1]  # closest to origin\n",
    "        (0, 1)\n",
    "        >>> result[2]  # total distance\n",
    "        11.09\n",
    "        >>> result[3]  # points sorted by distance from origin\n",
    "        [(0, 1), (1, 2), (3, 4), (5, 0)]\n",
    "    \"\"\"\n",
    "    if not points:\n",
    "        return ([], None, 0, [])\n",
    "    \n",
    "    if len(points) == 1:\n",
    "        return ([], points[0], 0, points.copy())\n",
    "    \n",
    "    # Calculate distances between consecutive points\n",
    "    distances = []\n",
    "    for i in range(len(points) - 1):\n",
    "        x1, y1 = points[i]\n",
    "        x2, y2 = points[i + 1]\n",
    "        distance = ((x2 - x1) ** 2 + (y2 - y1) ** 2) ** 0.5\n",
    "        distances.append(round(distance, 2))\n",
    "    \n",
    "    # Find point closest to origin\n",
    "    def distance_from_origin(point):\n",
    "        x, y = point\n",
    "        return (x ** 2 + y ** 2) ** 0.5\n",
    "    \n",
    "    closest_point = min(points, key=distance_from_origin)\n",
    "    \n",
    "    # Calculate total distance\n",
    "    total_distance = round(sum(distances), 2)\n",
    "    \n",
    "    # Sort points by distance from origin\n",
    "    sorted_points = sorted(points, key=distance_from_origin)\n",
    "    \n",
    "    return (distances, closest_point, total_distance, sorted_points)\n",
    "\n",
    "# Run examples\n",
    "print(\"Exercise 5 Examples:\")\n",
    "points1 = [(1, 2), (3, 4), (0, 1), (5, 0)]\n",
    "result1 = process_coordinates(points1)\n",
    "print(\"Input:\", points1)\n",
    "print(\"Distances between points:\", result1[0])\n",
    "print(\"Closest to origin:\", result1[1])\n",
    "print(\"Total distance:\", result1[2])\n",
    "print(\"Points sorted by distance from origin:\", result1[3])\n",
    "print()\n",
    "\n",
    "points2 = [(0, 0), (1, 1)]\n",
    "result2 = process_coordinates(points2)\n",
    "print(\"Input:\", points2)\n",
    "print(\"Distances between points:\", result2[0])\n",
    "print(\"Closest to origin:\", result2[1])\n",
    "print(\"Total distance:\", result2[2])\n",
    "print(\"Points sorted by distance from origin:\", result2[3])\n",
    "print()\n",
    "\n",
    "points3 = []\n",
    "result3 = process_coordinates(points3)\n",
    "print(\"Input:\", points3)\n",
    "print(\"Distances between points:\", result3[0])\n",
    "print(\"Closest to origin:\", result3[1])\n",
    "print(\"Total distance:\", result3[2])\n",
    "print(\"Points sorted by distance from origin:\", result3[3])"
   ]
  },
  {
   "cell_type": "code",
   "execution_count": 12,
   "id": "f0228355-e8e5-4555-83de-b1fa445c27e2",
   "metadata": {
    "pycharm": {
     "name": "#%%\n"
    }
   },
   "outputs": [
    {
     "name": "stdout",
     "output_type": "stream",
     "text": [
      "True\n"
     ]
    }
   ],
   "source": [
    "if not None:\n",
    "    print(\"True\")"
   ]
  },
  {
   "cell_type": "code",
   "execution_count": null,
   "id": "a0f2990e-201b-4f5b-ba7b-63657380a6d9",
   "metadata": {
    "pycharm": {
     "name": "#%%\n"
    }
   },
   "outputs": [],
   "source": []
  }
 ],
 "metadata": {
  "kernelspec": {
   "display_name": "Python 3 (ipykernel)",
   "language": "python",
   "name": "python3"
  },
  "language_info": {
   "codemirror_mode": {
    "name": "ipython",
    "version": 3
   },
   "file_extension": ".py",
   "mimetype": "text/x-python",
   "name": "python",
   "nbconvert_exporter": "python",
   "pygments_lexer": "ipython3",
   "version": "3.12.9"
  }
 },
 "nbformat": 4,
 "nbformat_minor": 5
}